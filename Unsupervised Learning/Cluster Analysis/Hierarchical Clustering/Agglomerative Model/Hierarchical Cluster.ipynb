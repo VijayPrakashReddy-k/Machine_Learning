{
 "cells": [
  {
   "cell_type": "code",
   "execution_count": 1,
   "metadata": {},
   "outputs": [],
   "source": [
    "import pylab as pl\n",
    "from operator import itemgetter\n",
    "from collections import OrderedDict, Counter"
   ]
  },
  {
   "cell_type": "code",
   "execution_count": 2,
   "metadata": {},
   "outputs": [],
   "source": [
    "dataSet = [[1, 1], [3, 1], [1, 4], [2, 5], [1, 2], [3, 2], [2, 4], [1, 5], [11, 12], [14, 11], [13, 12], [11, 16],\n",
    "           [17, 12], [12, 12], [11, 11], [14, 12], [12, 16], [17, 11], [28, 10], [26, 15], [27, 13], [28, 11], [29, 15],\n",
    "           [29, 10], [26, 16], [27, 14], [28, 12], [29, 16], [29, 17], [29, 13], [26, 18], [27, 13], [28, 11], [29, 17]]"
   ]
  },
  {
   "cell_type": "code",
   "execution_count": 3,
   "metadata": {},
   "outputs": [],
   "source": [
    "clusters = [idx for idx in range(len(dataSet))]\n",
    "distances = {}\n",
    "for idx1, point1 in enumerate(dataSet):\n",
    "    for idx2, point2 in enumerate(dataSet):\n",
    "        if (idx1 < idx2):\n",
    "            distance = pow(abs(point1[0] - point2[0]), 2) + pow(abs(point1[1] - point2[1]), 2)\n",
    "            distances[str(idx1) + \"to\" + str(idx2)] = distance"
   ]
  },
  {
   "cell_type": "code",
   "execution_count": 4,
   "metadata": {},
   "outputs": [],
   "source": [
    "# order by distance\n",
    "distances = OrderedDict(sorted(distances.items(), key=itemgetter(1), reverse=True))\n",
    "groupNum = len(clusters)\n",
    "finalClusterNum = int(groupNum * 0.1)\n",
    "while groupNum > finalClusterNum:\n",
    "    twopoins, distance = distances.popitem()\n",
    "    pointA = int(twopoins.split('to')[0])\n",
    "    pointB = int(twopoins.split('to')[1])\n",
    "    pointAGroup = clusters[pointA]\n",
    "    pointBGroup = clusters[pointB]\n",
    "    if (pointAGroup != pointBGroup):\n",
    "        for idx in range(len(clusters)):\n",
    "            if clusters[idx] == pointBGroup:\n",
    "                clusters[idx] = pointAGroup\n",
    "        groupNum -= 1"
   ]
  },
  {
   "cell_type": "code",
   "execution_count": 5,
   "metadata": {
    "scrolled": true
   },
   "outputs": [
    {
     "data": {
      "image/png": "[encoded data removed]",
      "text/plain": [
       "<Figure size 432x288 with 1 Axes>"
      ]
     },
     "metadata": {},
     "output_type": "display_data"
    }
   ],
   "source": [
    "wantGroupNum = 3\n",
    "finalGroup = Counter(clusters).most_common(wantGroupNum)\n",
    "finalGroup = [onecount[0] for onecount in finalGroup]\n",
    "dropPoints = [dataSet[idx] for idx in range(len(dataSet)) if clusters[idx] not in finalGroup]\n",
    "cluster1 = [dataSet[idx] for idx in range(len(dataSet)) if clusters[idx] == finalGroup[0]]\n",
    "cluster2 = [dataSet[idx] for idx in range(len(dataSet)) if clusters[idx] == finalGroup[1]]\n",
    "cluster3 = [dataSet[idx] for idx in range(len(dataSet)) if clusters[idx] == finalGroup[2]]\n",
    "pl.plot([eachpoint[0] for eachpoint in cluster1], [eachpoint[1] for eachpoint in cluster1], 'or')\n",
    "pl.plot([eachpoint[0] for eachpoint in cluster2], [eachpoint[1] for eachpoint in cluster2], 'oy')\n",
    "pl.plot([eachpoint[0] for eachpoint in cluster3], [eachpoint[1] for eachpoint in cluster3], 'og')\n",
    "pl.plot([eachpoint[0] for eachpoint in dropPoints], [eachpoint[1] for eachpoint in dropPoints], 'ok')\n",
    "pl.show()"
   ]
  }
 ],
 "metadata": {
  "kernelspec": {
   "display_name": "Python 3",
   "language": "python",
   "name": "python3"
  },
  "language_info": {
   "codemirror_mode": {
    "name": "ipython",
    "version": 3
   },
   "file_extension": ".py",
   "mimetype": "text/x-python",
   "name": "python",
   "nbconvert_exporter": "python",
   "pygments_lexer": "ipython3",
   "version": "3.6.5"
  }
 },
 "nbformat": 4,
 "nbformat_minor": 2
}
